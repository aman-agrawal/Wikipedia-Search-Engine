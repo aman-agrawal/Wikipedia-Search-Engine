{
 "cells": [
  {
   "cell_type": "code",
   "execution_count": null,
   "metadata": {},
   "outputs": [],
   "source": [
    "import re, os, sys, nltk\n",
    "import xml.etree.cElementTree as et\n",
    "import pickle, base64, time\n",
    "from heapq import *\n",
    "import math, operator, json, copy"
   ]
  },
  {
   "cell_type": "code",
   "execution_count": null,
   "metadata": {},
   "outputs": [],
   "source": [
    "stemmer = nltk.stem.SnowballStemmer('english')\n",
    "stop_words = {}\n",
    "stop_file = open(\"stop_words.txt\", \"r\")\n",
    "words = stop_file.read()\n",
    "words = words.split(\",\")\n",
    "for word in words:\n",
    "    word = word.strip()\n",
    "    if word:\n",
    "        stop_words[word[1:-1]] = 1"
   ]
  },
  {
   "cell_type": "code",
   "execution_count": null,
   "metadata": {},
   "outputs": [],
   "source": [
    "fields = {}\n",
    "fields[\"t\"] = open(\"index/title_output.txt\",\"r\")\n",
    "fields[\"c\"] = open(\"index/category_output.txt\",\"r\")\n",
    "fields[\"i\"] = open(\"index/infobox_output.txt\",\"r\")\n",
    "fields[\"d\"] = open(\"index/body_text_output.txt\",\"r\")"
   ]
  },
  {
   "cell_type": "code",
   "execution_count": null,
   "metadata": {},
   "outputs": [],
   "source": [
    "words_position = {}\n",
    "with open(\"index/word_position.json\",'r') as f:\n",
    "    words_position = json.load(f)"
   ]
  },
  {
   "cell_type": "code",
   "execution_count": null,
   "metadata": {},
   "outputs": [],
   "source": [
    "title_position = pickle.load(open(\"index/title_position.pickle\", \"rb\"))"
   ]
  },
  {
   "cell_type": "code",
   "execution_count": null,
   "metadata": {},
   "outputs": [],
   "source": [
    "titles = open(\"index/titles.txt\",'r')\n",
    "results = 10"
   ]
  },
  {
   "cell_type": "code",
   "execution_count": null,
   "metadata": {
    "scrolled": true
   },
   "outputs": [],
   "source": [
    "while True:\n",
    "    query_result = []\n",
    "    query = input(\"> \")\n",
    "    if (query == \"quit\") :\n",
    "        break\n",
    "    start = time.time()\n",
    "    result_doc = {}\n",
    "    if \":\" in query:\n",
    "        query_fields = query.split(\" \")\n",
    "        for queries in query_fields:\n",
    "            field,query = queries.split(\":\")\n",
    "            if field == \"ref\" or field == \"ext\" or field == \"body\":\n",
    "                field = \"d\"\n",
    "            elif field == \"title\":\n",
    "                field = \"t\"\n",
    "            elif field == \"category\":\n",
    "                field = \"c\"\n",
    "            elif field == \"infobox\":\n",
    "                field = \"i\"\n",
    "            words = query.split(\" \")\n",
    "            for word in words:\n",
    "                word = stemmer.stem(word)\n",
    "                if word and word not in stop_words:\n",
    "                    if word in words_position and field in words_position[word]:\n",
    "                        docs = []\n",
    "                        pointer = words_position[word][field]\n",
    "                        fields[field].seek(pointer)\n",
    "                        posting_list = fields[field].readline()[: -1]\n",
    "                        posting_list = posting_list.split(\",\")\n",
    "                        for doc in posting_list:\n",
    "                            doc_no, score = doc.split(\":\")\n",
    "                            if doc_no not in result_doc:\n",
    "                                result_doc[doc_no] = 0\n",
    "                            result_doc[doc_no] += float(score)\n",
    "    else:\n",
    "        \n",
    "        query_words = query.split(\" \")\n",
    "        for word in query_words:\n",
    "            word = word.strip()\n",
    "            word = stemmer.stem(word)\n",
    "            if word not in stop_words:\n",
    "                if word in words_position:\n",
    "                    docs = []\n",
    "                    for field in words_position[word].keys():\n",
    "                        pointer = words_position[word][field]\n",
    "                        fields[field].seek(pointer)\n",
    "                        posting_list = fields[field].readline()[: -1]\n",
    "                        posting_list = posting_list.split(\",\")\n",
    "                        for doc in posting_list:\n",
    "                            doc_no, score = doc.split(\":\")\n",
    "                            if doc_no not in result_doc:\n",
    "                                result_doc[doc_no] = 0\n",
    "                            result_doc[doc_no] += float(score)\n",
    "        \n",
    "    count = 1\n",
    "    result_doc = sorted(result_doc.items(), key = operator.itemgetter(1), reverse = True)\n",
    "    for document in result_doc :\n",
    "\n",
    "        position = title_position[int(document[0]) - 1]\n",
    "        titles.seek(position)\n",
    "        query_result.append(titles.readline()[: -1])\n",
    "        if count >= results :\n",
    "            break\n",
    "        count += 1\n",
    "        \n",
    "    end = time.time()\n",
    "    print(\"Time Taken :- \",(end-start))\n",
    "    if len(query_result) == 0:\n",
    "        print(\"No result found\")\n",
    "    else:\n",
    "        print(\"Number of Results :- \",len(query_result))\n",
    "        for result in query_result:\n",
    "            print(result)\n",
    "                        "
   ]
  },
  {
   "cell_type": "code",
   "execution_count": null,
   "metadata": {},
   "outputs": [],
   "source": []
  }
 ],
 "metadata": {
  "kernelspec": {
   "display_name": "Python 3",
   "language": "python",
   "name": "python3"
  },
  "language_info": {
   "codemirror_mode": {
    "name": "ipython",
    "version": 3
   },
   "file_extension": ".py",
   "mimetype": "text/x-python",
   "name": "python",
   "nbconvert_exporter": "python",
   "pygments_lexer": "ipython3",
   "version": "3.6.8"
  }
 },
 "nbformat": 4,
 "nbformat_minor": 2
}
